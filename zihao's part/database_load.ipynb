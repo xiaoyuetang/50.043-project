{
 "cells": [
  {
   "cell_type": "code",
   "execution_count": 1,
   "metadata": {
    "collapsed": true
   },
   "outputs": [],
   "source": [
    "import pandas as pd\n",
    "import numpy as np\n",
    "\n",
    "from numpy import genfromtxt\n",
    "from time import time\n",
    "from datetime import datetime\n",
    "from sqlalchemy import Column, Integer, Float, Date, String, VARCHAR, Text\n",
    "from sqlalchemy.ext.declarative import declarative_base\n",
    "from sqlalchemy import create_engine\n",
    "from sqlalchemy.orm import sessionmaker\n",
    "import csv"
   ]
  },
  {
   "cell_type": "code",
   "execution_count": 2,
   "metadata": {
    "collapsed": true
   },
   "outputs": [],
   "source": [
    "Base = declarative_base()\n",
    "\n",
    "class cdb1(Base):\n",
    "    \n",
    "    #Tell SQLAlchemy what the table name is and if there's any table-specific arguments it should know about\n",
    "    __tablename__ = 'Trial'\n",
    "    __table_args__ = {'sqlite_autoincrement': True}\n",
    "    \n",
    "    #tell SQLAlchemy the name of column and its attributes:\n",
    "    reviewID = Column(Integer, primary_key=True, nullable=False)\n",
    "    asin = Column(Text)\n",
    "    overall = Column(Integer)\n",
    "    reviewText = Column(Text)\n",
    "    reviewTime = Column(Text)\n",
    "    reviewerID = Column(Text)\n",
    "    reviewerName = Column(Text)\n",
    "    summary = Column(Text)\n",
    "    unixReviewTime = Column(Integer)\n",
    "\n",
    "engine = create_engine('sqlite:///app.db')\n",
    "Base.metadata.create_all(engine)\n",
    "file_name = 'kindle_reviews.csv'\n",
    "df = pd.read_csv(file_name)\n",
    "df.to_sql(con=engine, index_label='id', name=cdb1.__tablename__, if_exists='replace')"
   ]
  },
  {
   "cell_type": "code",
   "execution_count": 3,
   "metadata": {
    "collapsed": true
   },
   "outputs": [],
   "source": [
    "from app import db\n",
    "\n",
    "from app.models import Trial"
   ]
  },
  {
   "cell_type": "code",
   "execution_count": null,
   "metadata": {},
   "outputs": [],
   "source": [
    "a = Trial(reviewID=21, asin=\"idk\")\n",
    "db.session.add(a)\n",
    "db.session.commit()"
   ]
  },
  {
   "cell_type": "code",
   "execution_count": 4,
   "metadata": {},
   "outputs": [
    {
     "name": "stdout",
     "output_type": "stream",
     "text": [
      "[<Review ID: 0>, <Review ID: 1>, <Review ID: 2>, <Review ID: 3>, <Review ID: 4>, <Review ID: 5>, <Review ID: 6>, <Review ID: 7>, <Review ID: 8>, <Review ID: 9>, <Review ID: 10>, <Review ID: 11>, <Review ID: 12>, <Review ID: 13>, <Review ID: 14>, <Review ID: 15>, <Review ID: 16>, <Review ID: 17>, <Review ID: 18>, <Review ID: 19>]\n"
     ]
    }
   ],
   "source": [
    "reviews = Trial.query.all()\n",
    "print (reviews)"
   ]
  },
  {
   "cell_type": "code",
   "execution_count": null,
   "metadata": {
    "collapsed": true
   },
   "outputs": [],
   "source": [
    "data = pd.read_csv('kindle_reviews.csv')\n",
    "data_first_20 = data.loc[0:19]\n",
    "data_first_20.columns = data_first_10.columns.str.replace('Unnamed: 0','reviewID')\n",
    "#data_first_20.to_csv(\"1.csv\")"
   ]
  },
  {
   "cell_type": "code",
   "execution_count": null,
   "metadata": {
    "collapsed": true
   },
   "outputs": [],
   "source": []
  },
  {
   "cell_type": "code",
   "execution_count": null,
   "metadata": {},
   "outputs": [],
   "source": [
    "print (data_first_10.columns)\n",
    "print (type(data_first_10))\n",
    "\n",
    "print (data_first_10[:][1:2])"
   ]
  },
  {
   "cell_type": "code",
   "execution_count": null,
   "metadata": {},
   "outputs": [],
   "source": [
    "num = data_first_10.shape[0]\n",
    "for i in range(num):\n",
    "    \n",
    "    row = data_first_10[:][i:i+1]\n",
    "    reviewID = int(row['reviewID'].to_string(index=None))\n",
    "    asin = row['asin'].to_string(index=None)\n",
    "    overall = int(row['overall'].to_string(index=None))\n",
    "    reviewText = row['reviewText'].to_string(index=None)\n",
    "    reviewTime = row['reviewTime'].to_string(index=None)\n",
    "    reviewerID = row['reviewerID'].to_string(index=None)\n",
    "    reviewerName = row['reviewerName'].to_string(index=None)\n",
    "    summary = row['summary'].to_string(index=None)\n",
    "    unixReviewTime = row['unixReviewTime'].to_string(index=None)\n",
    "    \n",
    "    review = Trial(reviewID=reviewID, \n",
    "                   asin=asin,\n",
    "                   overall=overall,\n",
    "                   reviewText=reviewText,\n",
    "                   reviewTime=reviewTime,\n",
    "                   reviewerID=reviewerID,\n",
    "                   reviewerName=reviewerName,\n",
    "                   summary=summary,\n",
    "                   unixReviewTime=unixReviewTime)\n",
    "    db.session.add(review)\n",
    "    db.session.commit()"
   ]
  },
  {
   "cell_type": "code",
   "execution_count": null,
   "metadata": {
    "collapsed": true
   },
   "outputs": [],
   "source": []
  }
 ],
 "metadata": {
  "kernelspec": {
   "display_name": "Python 3",
   "language": "python",
   "name": "python3"
  },
  "language_info": {
   "codemirror_mode": {
    "name": "ipython",
    "version": 3
   },
   "file_extension": ".py",
   "mimetype": "text/x-python",
   "name": "python",
   "nbconvert_exporter": "python",
   "pygments_lexer": "ipython3",
   "version": "3.6.3"
  }
 },
 "nbformat": 4,
 "nbformat_minor": 2
}
