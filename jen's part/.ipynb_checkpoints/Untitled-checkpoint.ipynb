{
 "cells": [
  {
   "cell_type": "code",
   "execution_count": 1,
   "metadata": {},
   "outputs": [],
   "source": [
    "from app import db\n",
    "from app.models import User, Trial, Review, ReviewerReviews, ReviewerInformation"
   ]
  },
  {
   "cell_type": "code",
   "execution_count": 2,
   "metadata": {},
   "outputs": [],
   "source": [
    "import pandas as pd"
   ]
  },
  {
   "cell_type": "code",
   "execution_count": 3,
   "metadata": {},
   "outputs": [],
   "source": [
    "data = pd.read_csv('kindle_reviews_big.csv')"
   ]
  },
  {
   "cell_type": "code",
   "execution_count": 4,
   "metadata": {},
   "outputs": [
    {
     "name": "stdout",
     "output_type": "stream",
     "text": [
      "       reviewerID                         reviewerName\n",
      "0  A1F6404F1VG29J                           Avidreader\n",
      "1   AN0N05A9LIJEQ                             critters\n",
      "2   A795DMNCJILA6                                  dot\n",
      "3  A1FV0SX13TWVXQ  Elaine H. Turley \"Montana Songbird\"\n",
      "4  A3SPTOKDG7WBLN                   Father Dowling Fan\n"
     ]
    }
   ],
   "source": [
    "table1_col = ['reviewerID', 'reviewerName']\n",
    "df1 = data[table1_col]\n",
    "\n",
    "print (df1.head(5))"
   ]
  },
  {
   "cell_type": "code",
   "execution_count": null,
   "metadata": {},
   "outputs": [],
   "source": [
    "for row in df1.iterrows():\n",
    "    \n",
    "    #reviewer_info = ReviewerInformation(reviewerID=a, reviewerName=b)\n",
    "    #db.session.add(reviewer_info)\n",
    "    #db.session.commit()\n",
    "    "
   ]
  },
  {
   "cell_type": "code",
   "execution_count": null,
   "metadata": {
    "collapsed": true
   },
   "outputs": [],
   "source": [
    "table2_col = ['reviewID', 'overall', 'reviewText', 'summary', 'unixReviewTime']\n",
    "df2 = data[table2_col]\n"
   ]
  },
  {
   "cell_type": "code",
   "execution_count": null,
   "metadata": {
    "collapsed": true
   },
   "outputs": [],
   "source": [
    "table3_col = ['reviewID', 'asin', 'reviewerID']\n",
    "df3 = data[table3_col]\n"
   ]
  }
 ],
 "metadata": {
  "kernelspec": {
   "display_name": "Python 3",
   "language": "python",
   "name": "python3"
  },
  "language_info": {
   "codemirror_mode": {
    "name": "ipython",
    "version": 3
   },
   "file_extension": ".py",
   "mimetype": "text/x-python",
   "name": "python",
   "nbconvert_exporter": "python",
   "pygments_lexer": "ipython3",
   "version": "3.6.3"
  }
 },
 "nbformat": 4,
 "nbformat_minor": 2
}
